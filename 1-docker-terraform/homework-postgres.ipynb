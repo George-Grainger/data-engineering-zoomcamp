{
 "cells": [
  {
   "cell_type": "code",
   "execution_count": 2,
   "metadata": {},
   "outputs": [
    {
     "name": "stderr",
     "output_type": "stream",
     "text": [
      "/tmp/ipykernel_63856/4080736814.py:1: DeprecationWarning: \n",
      "Pyarrow will become a required dependency of pandas in the next major release of pandas (pandas 3.0),\n",
      "(to allow more performant data types, such as the Arrow string type, and better interoperability with other libraries)\n",
      "but was not found to be installed on your system.\n",
      "If this would cause problems for you,\n",
      "please provide us feedback at https://github.com/pandas-dev/pandas/issues/54466\n",
      "        \n",
      "  import pandas as pd\n"
     ]
    }
   ],
   "source": [
    "import pandas as pd"
   ]
  },
  {
   "cell_type": "code",
   "execution_count": 3,
   "metadata": {},
   "outputs": [],
   "source": [
    "taxi_url = \"https://github.com/DataTalksClub/nyc-tlc-data/releases/download/green/green_tripdata_2019-09.csv.gz\"\n",
    "\n",
    "taxi_dtypes = {\n",
    "    'VendorID': pd.Int64Dtype(),\n",
    "    'passenger_count': pd.Int64Dtype(),\n",
    "    'trip_distance': float,\n",
    "    'RatecodeID': pd.Int64Dtype(),\n",
    "    'store_and_fwd_flag': str,\n",
    "    'PULocationID': pd.Int64Dtype(),\n",
    "    'DOLocationID': pd.Int64Dtype(),\n",
    "    'payment_type': pd.Int64Dtype(),\n",
    "    'fare_amount': float,\n",
    "    'extra': float,\n",
    "    'mta_tax': float,\n",
    "    'tip_amount': float,\n",
    "    'tolls_amount': float,\n",
    "    'improvement_surcharge': float,\n",
    "    'total_amount': float,\n",
    "    'congestion_surcharge': float,\n",
    "    'trip_type': pd.Int64Dtype(),\n",
    "}\n",
    "\n",
    "parse_dates = ['lpep_pickup_datetime', 'lpep_dropoff_datetime']\n",
    "\n",
    "taxi_data = pd.read_csv(taxi_url, sep=\",\", compression=\"gzip\", dtype=taxi_dtypes, parse_dates=parse_dates, usecols=lambda x: x != \"ehail_fee\")"
   ]
  },
  {
   "cell_type": "code",
   "execution_count": 17,
   "metadata": {},
   "outputs": [
    {
     "data": {
      "text/plain": [
       "15612"
      ]
     },
     "execution_count": 17,
     "metadata": {},
     "output_type": "execute_result"
    }
   ],
   "source": [
    "def filter_by_date(df, date):\n",
    "    start_mask = taxi_data[\"lpep_pickup_datetime\"].dt.strftime('%Y-%m-%d') == date\n",
    "    end_mask = taxi_data[\"lpep_dropoff_datetime\"].dt.strftime('%Y-%m-%d') == date\n",
    "\n",
    "    return df[start_mask & end_mask]\n",
    "\n",
    "d1_df = \n",
    "len(d1_df)"
   ]
  },
  {
   "cell_type": "code",
   "execution_count": 35,
   "metadata": {},
   "outputs": [
    {
     "name": "stdout",
     "output_type": "stream",
     "text": [
      "2019-09-26\n"
     ]
    }
   ],
   "source": [
    "max = pd.Timedelta(0)\n",
    "max_date = None\n",
    "\n",
    "for date in [\"2019-09-18\", \"2019-09-16\", \"2019-09-18\", \"2019-09-26\", \"2019-09-21\"]:\n",
    "    temp_df = filter_by_date(taxi_data, date)\n",
    "    time = (temp_df[\"lpep_dropoff_datetime\"] - temp_df[\"lpep_pickup_datetime\"]).max()\n",
    "\n",
    "    if max < time:\n",
    "        max = time\n",
    "        max_date = date\n",
    "\n",
    "print(max_date)"
   ]
  },
  {
   "cell_type": "code",
   "execution_count": 33,
   "metadata": {},
   "outputs": [
    {
     "data": {
      "text/plain": [
       "23.68"
      ]
     },
     "execution_count": 33,
     "metadata": {},
     "output_type": "execute_result"
    }
   ],
   "source": []
  },
  {
   "cell_type": "code",
   "execution_count": 4,
   "metadata": {},
   "outputs": [],
   "source": [
    "zone_url=\"https://s3.amazonaws.com/nyc-tlc/misc/taxi+_zone_lookup.csv\"\n",
    "\n",
    "zone_dtypes = {\n",
    "    \"LocationID\": pd.Int64Dtype(),\n",
    "    \"Borough\": str,\n",
    "    \"Zone\": str,\n",
    "    \"service_zone\": str\n",
    "}\n",
    "\n",
    "zone_data = pd.read_csv(zone_url, sep=\",\", dtype=zone_dtypes)"
   ]
  }
 ],
 "metadata": {
  "kernelspec": {
   "display_name": "Python 3",
   "language": "python",
   "name": "python3"
  },
  "language_info": {
   "codemirror_mode": {
    "name": "ipython",
    "version": 3
   },
   "file_extension": ".py",
   "mimetype": "text/x-python",
   "name": "python",
   "nbconvert_exporter": "python",
   "pygments_lexer": "ipython3",
   "version": "3.10.12"
  }
 },
 "nbformat": 4,
 "nbformat_minor": 2
}
